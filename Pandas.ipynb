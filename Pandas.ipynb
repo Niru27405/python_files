{
  "nbformat": 4,
  "nbformat_minor": 0,
  "metadata": {
    "colab": {
      "provenance": [],
      "authorship_tag": "ABX9TyOeSL2bbEtKFW3umUwimyiA",
      "include_colab_link": true
    },
    "kernelspec": {
      "name": "python3",
      "display_name": "Python 3"
    },
    "language_info": {
      "name": "python"
    }
  },
  "cells": [
    {
      "cell_type": "markdown",
      "metadata": {
        "id": "view-in-github",
        "colab_type": "text"
      },
      "source": [
        "<a href=\"https://colab.research.google.com/github/Niru27405/python_files/blob/main/Pandas.ipynb\" target=\"_parent\"><img src=\"https://colab.research.google.com/assets/colab-badge.svg\" alt=\"Open In Colab\"/></a>"
      ]
    },
    {
      "cell_type": "markdown",
      "source": [
        "Pandas - Series\n",
        "Series is a data structure\n",
        "only 1D data can be created"
      ],
      "metadata": {
        "id": "a28cpq86ZCLv"
      }
    },
    {
      "cell_type": "markdown",
      "source": [
        "Initialize a series from list"
      ],
      "metadata": {
        "id": "jP4u8xosZB1O"
      }
    },
    {
      "cell_type": "code",
      "execution_count": null,
      "metadata": {
        "colab": {
          "base_uri": "https://localhost:8080/"
        },
        "id": "zm8BVBPEYMJ9",
        "outputId": "154df0a6-61ed-4266-c6d9-a3864e4202e8"
      },
      "outputs": [
        {
          "output_type": "stream",
          "name": "stdout",
          "text": [
            "0    1\n",
            "1    2\n",
            "2    3\n",
            "3    4\n",
            "4    5\n",
            "dtype: int64\n"
          ]
        }
      ],
      "source": [
        "import pandas as pd\n",
        "data = [1,2,3,4,5]\n",
        "S = pd.Series(data)\n",
        "print(S)"
      ]
    },
    {
      "cell_type": "markdown",
      "source": [
        "Initialize a Series from a dictionary"
      ],
      "metadata": {
        "id": "kUCo-st0aTaC"
      }
    },
    {
      "cell_type": "code",
      "source": [
        "import pandas as pd\n",
        "data = {'a':1,'b':2,'c':3}\n",
        "a = pd.Series(data)\n",
        "print(a)"
      ],
      "metadata": {
        "colab": {
          "base_uri": "https://localhost:8080/"
        },
        "id": "gOikvYcdZ04m",
        "outputId": "8dba3cdc-8614-414a-d903-afc241b34ec9"
      },
      "execution_count": null,
      "outputs": [
        {
          "output_type": "stream",
          "name": "stdout",
          "text": [
            "a    1\n",
            "b    2\n",
            "c    3\n",
            "dtype: int64\n"
          ]
        }
      ]
    },
    {
      "cell_type": "markdown",
      "source": [
        "Initialize a Series with custom index"
      ],
      "metadata": {
        "id": "o84ZHdCca4Jx"
      }
    },
    {
      "cell_type": "code",
      "source": [
        "import pandas as pd\n",
        "data = [1,2,3,4,5]\n",
        "index = ['a','b','c','d','e']\n",
        "a = pd.Series(data,index = index)\n",
        "print(a)"
      ],
      "metadata": {
        "colab": {
          "base_uri": "https://localhost:8080/"
        },
        "id": "5nweXt4LalYW",
        "outputId": "416a959e-3d43-4170-959c-aac9439ff239"
      },
      "execution_count": null,
      "outputs": [
        {
          "output_type": "stream",
          "name": "stdout",
          "text": [
            "a    1\n",
            "b    2\n",
            "c    3\n",
            "d    4\n",
            "e    5\n",
            "dtype: int64\n"
          ]
        }
      ]
    },
    {
      "cell_type": "code",
      "source": [
        "import pandas as pd\n",
        "data = [23,35,46,57,12,18,29]\n",
        "index = ['Ram','Isha','Elsa','Tom','Riya','Bunny','Sherya']\n",
        "a = pd.Series(data,index = index)\n",
        "print(a)\n"
      ],
      "metadata": {
        "colab": {
          "base_uri": "https://localhost:8080/"
        },
        "id": "fSHK1ki6bSsU",
        "outputId": "785afccd-3a6c-4879-e6f1-038833257423"
      },
      "execution_count": null,
      "outputs": [
        {
          "output_type": "stream",
          "name": "stdout",
          "text": [
            "Ram       23\n",
            "Isha      35\n",
            "Elsa      46\n",
            "Tom       57\n",
            "Riya      12\n",
            "Bunny     18\n",
            "Sherya    29\n",
            "dtype: int64\n"
          ]
        }
      ]
    },
    {
      "cell_type": "markdown",
      "source": [
        "Series Addition - Arithmetic Operations"
      ],
      "metadata": {
        "id": "8Y_cwvHAdupG"
      }
    },
    {
      "cell_type": "code",
      "source": [
        "import pandas as pd\n",
        "a = pd.Series([1,2,3])\n",
        "b = pd.Series([4,5,6])\n",
        "sum = a+b\n",
        "print(sum)"
      ],
      "metadata": {
        "colab": {
          "base_uri": "https://localhost:8080/"
        },
        "id": "sA2D5IDCdZ2H",
        "outputId": "5a338d80-6aac-44f3-ab99-88a31b496e90"
      },
      "execution_count": null,
      "outputs": [
        {
          "output_type": "stream",
          "name": "stdout",
          "text": [
            "0    5\n",
            "1    7\n",
            "2    9\n",
            "dtype: int64\n"
          ]
        }
      ]
    },
    {
      "cell_type": "markdown",
      "source": [
        "Combining and printing if the index is available in both a and b"
      ],
      "metadata": {
        "id": "cvwfX3fAf2TQ"
      }
    },
    {
      "cell_type": "code",
      "source": [
        "import pandas as pd\n",
        "a = pd.Series([1,2,3],index= ['a','b','c'])\n",
        "b = pd.Series([4,5,6],index= ['b','c','d'])\n",
        "sum = a+b\n",
        "print(sum)"
      ],
      "metadata": {
        "colab": {
          "base_uri": "https://localhost:8080/"
        },
        "id": "mzk5pKkEfDCD",
        "outputId": "ab51974b-7bff-4e14-c5b3-f5458adaf6eb"
      },
      "execution_count": null,
      "outputs": [
        {
          "output_type": "stream",
          "name": "stdout",
          "text": [
            "a    NaN\n",
            "b    6.0\n",
            "c    8.0\n",
            "d    NaN\n",
            "dtype: float64\n"
          ]
        }
      ]
    },
    {
      "cell_type": "markdown",
      "source": [],
      "metadata": {
        "id": "G49xUSoJjOqV"
      }
    },
    {
      "cell_type": "markdown",
      "source": [
        "Data Frames"
      ],
      "metadata": {
        "id": "MfFSVyiahbpR"
      }
    },
    {
      "cell_type": "code",
      "source": [
        "import pandas as pd\n",
        "data = {'Name': ['John','Alice','Bob'],'Age':[25,30,35],'City':['New York','Los Angeles','Chicago']}\n",
        "df = pd.DataFrame(data)\n",
        "print(df)"
      ],
      "metadata": {
        "colab": {
          "base_uri": "https://localhost:8080/"
        },
        "id": "9E3oOIAfhZQu",
        "outputId": "6a927115-d85a-4e58-f2cc-8af71b1869fa"
      },
      "execution_count": null,
      "outputs": [
        {
          "output_type": "stream",
          "name": "stdout",
          "text": [
            "    Name  Age         City\n",
            "0   John   25     New York\n",
            "1  Alice   30  Los Angeles\n",
            "2    Bob   35      Chicago\n"
          ]
        }
      ]
    },
    {
      "cell_type": "markdown",
      "source": [
        ". Calculate the total items sold for each product over the week.\n"
      ],
      "metadata": {
        "id": "L1pSGLnxo72R"
      }
    },
    {
      "cell_type": "code",
      "source": [
        "import pandas as pd\n",
        "data = {'Day':['Monday','Tuesday','Wednesday','Thrusday','Friday','Saturday'],'Bread':[20,25,22,30,35,40],'Cakes':[15,18,16,20,25,30],'Cookies': [50,55,52,60,65,70],'Muffins':[10,12,11,15,20,25],'Pies':[5,6,7,10,15,18]}\n",
        "df = pd.DataFrame(data)\n",
        "# df.loc[6]=['Cp',10,50,5,12,20]\n",
        "a_sum = np.sum(data,axis = 0)\n",
        "print(a_sum)"
      ],
      "metadata": {
        "colab": {
          "base_uri": "https://localhost:8080/"
        },
        "id": "a-R2lajojFFb",
        "outputId": "7983e754-8e72-4b2b-ad04-8ff60468b521"
      },
      "execution_count": null,
      "outputs": [
        {
          "output_type": "stream",
          "name": "stdout",
          "text": [
            "{'Day': ['Monday', 'Tuesday', 'Wednesday', 'Thrusday', 'Friday', 'Saturday'], 'Bread': [20, 25, 22, 30, 35, 40], 'Cakes': [15, 18, 16, 20, 25, 30], 'Cookies': [50, 55, 52, 60, 65, 70], 'Muffins': [10, 12, 11, 15, 20, 25], 'Pies': [5, 6, 7, 10, 15, 18]}\n"
          ]
        }
      ]
    },
    {
      "cell_type": "markdown",
      "source": [
        ". Find the average number of items sold for each product across all days"
      ],
      "metadata": {
        "id": "bXWGqstepEwr"
      }
    },
    {
      "cell_type": "code",
      "source": [
        "import pandas as pd\n",
        "data = {'Day':['Monday','Tuesday','Wednesday','Thrusday','Friday','Saturday'],'Bread':[20,25,22,30,35,40],'Cakes':[15,18,16,20,25,30],'Cookies': [50,55,52,60,65,70],'Muffins':[10,12,11,15,20,25],'Pies':[5,6,7,10,15,18]}\n",
        "df = pd.DataFrame(data)\n",
        "# df.loc[6]=['Cp',10,50,5,12,20]\n",
        "a_mean = df.iloc[:,1:].mean()\n",
        "print(a_mean)\n"
      ],
      "metadata": {
        "colab": {
          "base_uri": "https://localhost:8080/"
        },
        "id": "BSukBFmRpI23",
        "outputId": "4608a986-7bfc-4c51-f14b-6c268cf15906"
      },
      "execution_count": null,
      "outputs": [
        {
          "output_type": "stream",
          "name": "stdout",
          "text": [
            "Bread      28.666667\n",
            "Cakes      20.666667\n",
            "Cookies    58.666667\n",
            "Muffins    15.500000\n",
            "Pies       10.166667\n",
            "dtype: float64\n"
          ]
        }
      ]
    },
    {
      "cell_type": "markdown",
      "source": [
        "Determine the total revenue for the week if the selling prices of bread,\n",
        "cakes, cookies, muffins, and pies are $15, $70, $8, $18, and $30,\n",
        "respectively."
      ],
      "metadata": {
        "id": "7hZyAID0pxdk"
      }
    },
    {
      "cell_type": "code",
      "source": [
        "import pandas as pd\n",
        "data = {'Day':['Monday','Tuesday','Wednesday','Thrusday','Friday','Saturday'],'Bread':[20,25,22,30,35,40],'Cakes':[15,18,16,20,25,30],'Cookies': [50,55,52,60,65,70],'Muffins':[10,12,11,15,20,25],'Pies':[5,6,7,10,15,18]}\n",
        "df = pd.DataFrame(data)\n",
        "cp = {'CP':[10,50,5,12,20]}"
      ],
      "metadata": {
        "id": "bOLqsJ7epyWO"
      },
      "execution_count": null,
      "outputs": []
    },
    {
      "cell_type": "markdown",
      "source": [
        "CLA-I Practice\n",
        "\n",
        "Creating one-dimensional array in NumPy"
      ],
      "metadata": {
        "id": "ZPq9JKlwTvQN"
      }
    },
    {
      "cell_type": "code",
      "source": [
        "import numpy as np\n",
        "arr = np.arange(20)\n",
        "print(arr)"
      ],
      "metadata": {
        "colab": {
          "base_uri": "https://localhost:8080/"
        },
        "id": "joOSpS9hT33B",
        "outputId": "cf8c5641-2564-4a72-90b6-813745a163d9"
      },
      "execution_count": null,
      "outputs": [
        {
          "output_type": "stream",
          "name": "stdout",
          "text": [
            "[ 0  1  2  3  4  5  6  7  8  9 10 11 12 13 14 15 16 17 18 19]\n"
          ]
        }
      ]
    },
    {
      "cell_type": "markdown",
      "source": [
        "Check the dimensions by using array.shape.\n",
        "(20, )\n"
      ],
      "metadata": {
        "id": "pq5N-voFUyfw"
      }
    },
    {
      "cell_type": "code",
      "source": [
        "import numpy as np\n",
        "arr = np.arange(20)\n",
        "print(arr)\n",
        "print(arr.shape)"
      ],
      "metadata": {
        "id": "I8EjpmvzU4hW",
        "colab": {
          "base_uri": "https://localhost:8080/"
        },
        "outputId": "92d0aee0-2596-4c03-b5fa-1cc00d5244b9"
      },
      "execution_count": null,
      "outputs": [
        {
          "output_type": "stream",
          "name": "stdout",
          "text": [
            "[ 0  1  2  3  4  5  6  7  8  9 10 11 12 13 14 15 16 17 18 19]\n",
            "(20,)\n"
          ]
        }
      ]
    },
    {
      "cell_type": "markdown",
      "source": [
        "b. Creating two-dimensional arrays in NumPy"
      ],
      "metadata": {
        "id": "D2RMW8XeWOKP"
      }
    },
    {
      "cell_type": "code",
      "source": [
        "import numpy as np\n",
        "arr = np.arange(20).reshape(4,5)\n",
        "print(arr)"
      ],
      "metadata": {
        "colab": {
          "base_uri": "https://localhost:8080/"
        },
        "id": "jPGW8kpoWPZr",
        "outputId": "a61a3fa5-0a1d-47dc-ba99-005a5bb6e506"
      },
      "execution_count": null,
      "outputs": [
        {
          "output_type": "stream",
          "name": "stdout",
          "text": [
            "[[ 0  1  2  3  4]\n",
            " [ 5  6  7  8  9]\n",
            " [10 11 12 13 14]\n",
            " [15 16 17 18 19]]\n"
          ]
        }
      ]
    },
    {
      "cell_type": "code",
      "source": [
        "import pandas as pd\n",
        "data = [1,2,3,4,5]\n",
        "a = pd.Series(data)\n",
        "print(a)"
      ],
      "metadata": {
        "colab": {
          "base_uri": "https://localhost:8080/"
        },
        "id": "lxspU7AmSB7w",
        "outputId": "62014c70-dfca-4281-9884-a76896278d69"
      },
      "execution_count": null,
      "outputs": [
        {
          "output_type": "stream",
          "name": "stdout",
          "text": [
            "0    1\n",
            "1    2\n",
            "2    3\n",
            "3    4\n",
            "4    5\n",
            "dtype: int64\n"
          ]
        }
      ]
    },
    {
      "cell_type": "code",
      "source": [
        "import pandas as pd\n",
        "a = pd.Series([1,2,3])\n",
        "b = pd.Series([4,5,6])\n",
        "sum = a+b\n",
        "print(sum)"
      ],
      "metadata": {
        "colab": {
          "base_uri": "https://localhost:8080/"
        },
        "id": "uj1C-rE7SkSO",
        "outputId": "f9518ee0-29b4-4cfe-ded3-bba99d971281"
      },
      "execution_count": null,
      "outputs": [
        {
          "output_type": "stream",
          "name": "stdout",
          "text": [
            "0    5\n",
            "1    7\n",
            "2    9\n",
            "dtype: int64\n"
          ]
        }
      ]
    },
    {
      "cell_type": "code",
      "source": [
        "import numpy as np\n",
        "a = np.array([1,2,3,4,5,6,7,8,9])\n",
        "b = np.split(a,3)\n",
        "c = np.sort(b)\n",
        "print(c)\n"
      ],
      "metadata": {
        "colab": {
          "base_uri": "https://localhost:8080/"
        },
        "id": "n1TsdT16kqxj",
        "outputId": "db3523b1-533f-4dae-a110-4837684f62dc"
      },
      "execution_count": 6,
      "outputs": [
        {
          "output_type": "stream",
          "name": "stdout",
          "text": [
            "[[1 2 3]\n",
            " [4 5 6]\n",
            " [7 8 9]]\n"
          ]
        }
      ]
    },
    {
      "cell_type": "code",
      "source": [
        "import numpy as np\n",
        "A = np.array([1, 2, 3])\n",
        "B = np.array([4, 5, 6])\n",
        "c = A + B\n",
        "d = A * B\n",
        "e = np.dot(A,B)\n",
        "print(c,d,e)"
      ],
      "metadata": {
        "colab": {
          "base_uri": "https://localhost:8080/"
        },
        "id": "EXwr7l7Kp3wO",
        "outputId": "ae0ead1d-380d-4434-bed3-38241a61dcfa"
      },
      "execution_count": 10,
      "outputs": [
        {
          "output_type": "stream",
          "name": "stdout",
          "text": [
            "[5 7 9] [ 4 10 18] 32\n"
          ]
        }
      ]
    },
    {
      "cell_type": "code",
      "source": [
        "import pandas as pd\n",
        "a = {'Name':['Joy','Roy','Don'],'Age':[10,12,14],'Salary':[2000,4000,6000]}\n",
        "b = pd.DataFrame(a)\n",
        "c = b[['Name','Age']]\n",
        "print(c)\n",
        "d = b[b['Salary']>2000]\n",
        "e = b.sort_values(by = 'Salary',ascending = False)\n",
        "# print(a['Age'])\n",
        "# print(e)\n",
        "# print(d)\n"
      ],
      "metadata": {
        "colab": {
          "base_uri": "https://localhost:8080/"
        },
        "id": "s-jCV9qo7GRs",
        "outputId": "8c5b1c7f-4d75-46d1-dc83-1c0bdf3307f9"
      },
      "execution_count": 29,
      "outputs": [
        {
          "output_type": "stream",
          "name": "stdout",
          "text": [
            "  Name  Age\n",
            "0  Joy   10\n",
            "1  Roy   12\n",
            "2  Don   14\n"
          ]
        }
      ]
    },
    {
      "cell_type": "code",
      "source": [
        "import numpy as np\n",
        "a = np.random.randint(1,101,size=(3,4))\n",
        "print(a,'\\n')\n",
        "\n",
        "b = np.sort(a,axis = 0)\n",
        "print(b,'\\n')\n",
        "c = np.sort(a,axis = 1)\n",
        "print(c,'\\n')"
      ],
      "metadata": {
        "colab": {
          "base_uri": "https://localhost:8080/"
        },
        "id": "vgy9Uw_VB3bR",
        "outputId": "09d5176f-fbf9-4299-b7c8-ac87b82ed03b"
      },
      "execution_count": 38,
      "outputs": [
        {
          "output_type": "stream",
          "name": "stdout",
          "text": [
            "[[52 27 73 43]\n",
            " [16 11 35 38]\n",
            " [71 69 54 92]] \n",
            "\n",
            "[[16 11 35 38]\n",
            " [52 27 54 43]\n",
            " [71 69 73 92]] \n",
            "\n",
            "[[27 43 52 73]\n",
            " [11 16 35 38]\n",
            " [54 69 71 92]] \n",
            "\n"
          ]
        }
      ]
    },
    {
      "cell_type": "code",
      "source": [
        "import pandas as pd\n",
        "a = pd.Series([10,20,30,40,50],index =['A','B','C','D','E'])\n",
        "\n",
        "print(a['C'])"
      ],
      "metadata": {
        "colab": {
          "base_uri": "https://localhost:8080/"
        },
        "id": "d4RhAepHD195",
        "outputId": "626c8f90-53d7-43bd-c5ab-c3277e95c739"
      },
      "execution_count": 41,
      "outputs": [
        {
          "output_type": "stream",
          "name": "stdout",
          "text": [
            "30\n"
          ]
        }
      ]
    },
    {
      "cell_type": "code",
      "source": [
        "import numpy as np\n",
        "a = np.array([10,20,30,40,50,60,70,80])\n",
        "print(a[2:6])\n",
        "print(a[-5:-2])\n"
      ],
      "metadata": {
        "colab": {
          "base_uri": "https://localhost:8080/"
        },
        "id": "sd9_3eRlFAhy",
        "outputId": "5a1fc3fe-202a-49c1-b67f-fdc40ec5501d"
      },
      "execution_count": 49,
      "outputs": [
        {
          "output_type": "stream",
          "name": "stdout",
          "text": [
            "[30 40 50 60]\n",
            "[40 50 60]\n"
          ]
        }
      ]
    }
  ]
}