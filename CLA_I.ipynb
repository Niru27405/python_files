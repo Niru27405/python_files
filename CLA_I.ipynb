{
  "nbformat": 4,
  "nbformat_minor": 0,
  "metadata": {
    "colab": {
      "provenance": [],
      "authorship_tag": "ABX9TyOVv66oyvP1Yn3w1OuvT9CV",
      "include_colab_link": true
    },
    "kernelspec": {
      "name": "python3",
      "display_name": "Python 3"
    },
    "language_info": {
      "name": "python"
    }
  },
  "cells": [
    {
      "cell_type": "markdown",
      "metadata": {
        "id": "view-in-github",
        "colab_type": "text"
      },
      "source": [
        "<a href=\"https://colab.research.google.com/github/Niru27405/python_files/blob/main/CLA_I.ipynb\" target=\"_parent\"><img src=\"https://colab.research.google.com/assets/colab-badge.svg\" alt=\"Open In Colab\"/></a>"
      ]
    },
    {
      "cell_type": "markdown",
      "source": [
        "13. Given an array of shape (4,4), split it into two equal halves and then stack them back together.   "
      ],
      "metadata": {
        "id": "vP14Gn1fZTtS"
      }
    },
    {
      "cell_type": "code",
      "execution_count": 10,
      "metadata": {
        "colab": {
          "base_uri": "https://localhost:8080/"
        },
        "id": "JyeR2iKPZLSP",
        "outputId": "90c68026-8928-443a-ef8f-f6ec54c54889"
      },
      "outputs": [
        {
          "output_type": "stream",
          "name": "stdout",
          "text": [
            "[[23 32  1 18]\n",
            " [40 52 24 50]\n",
            " [48 29 61 26]\n",
            " [14 23 72  8]] \n",
            "\n",
            "[[23 32  1 18]\n",
            " [40 52 24 50]] \n",
            "\n",
            "[[48 29 61 26]\n",
            " [14 23 72  8]] \n",
            "\n",
            "[[23 32  1 18]\n",
            " [40 52 24 50]\n",
            " [48 29 61 26]\n",
            " [14 23 72  8]]\n"
          ]
        }
      ],
      "source": [
        "import numpy as np\n",
        "a = np.random.randint(1,101,size=(4,4))\n",
        "print(a,\"\\n\")\n",
        "b,c= np.split(a,2)\n",
        "print(b,\"\\n\")\n",
        "print(c,'\\n')\n",
        "v = np.vstack((b,c))\n",
        "print(v)"
      ]
    },
    {
      "cell_type": "markdown",
      "source": [
        "\n",
        "12. What is the difference between vstack() and hstack()?\n"
      ],
      "metadata": {
        "id": "zUk2hIwIbY0Q"
      }
    },
    {
      "cell_type": "code",
      "source": [
        "import numpy as np\n",
        "a = np.array([[1,2],[3,4]])\n",
        "b = np.array([[5,6],[7,8]])\n",
        "c = np.vstack((a,b))\n",
        "d = np.hstack((a,b))\n",
        "print(c,\"\\n\")\n",
        "print(d)"
      ],
      "metadata": {
        "colab": {
          "base_uri": "https://localhost:8080/"
        },
        "id": "DHo7Zy0zbcGJ",
        "outputId": "c2b60077-3f3d-4b56-cfdf-005c6903ef15"
      },
      "execution_count": 13,
      "outputs": [
        {
          "output_type": "stream",
          "name": "stdout",
          "text": [
            "[[1 2]\n",
            " [3 4]\n",
            " [5 6]\n",
            " [7 8]] \n",
            "\n",
            "[[1 2 5 6]\n",
            " [3 4 7 8]]\n"
          ]
        }
      ]
    },
    {
      "cell_type": "markdown",
      "source": [
        "10.Create a multi-index DataFrame where the first level of the index represents Departments (IT, HR, Finance) and the second level represents Employee IDs (101, 102, 103). Assign random salaries and display the DataFrame.      "
      ],
      "metadata": {
        "id": "z7ebHebuc0TJ"
      }
    },
    {
      "cell_type": "code",
      "source": [
        "import pandas as pd\n",
        "import numpy as np\n",
        "\n",
        "a = pd.MultiIndex.from_product([['IT','HR','FINANCE'],[101,102,103]],names = ['Department','EMployee ID'])\n",
        "Salaries = np.random.randint(1000,5000,len(a))\n",
        "df = pd.DataFrame(Salaries,index = a)\n",
        "print(df)"
      ],
      "metadata": {
        "colab": {
          "base_uri": "https://localhost:8080/"
        },
        "id": "_UkYex55eWL1",
        "outputId": "cadccee6-404b-47b6-beac-bd70f3dba091"
      },
      "execution_count": 23,
      "outputs": [
        {
          "output_type": "stream",
          "name": "stdout",
          "text": [
            "                           0\n",
            "Department EMployee ID      \n",
            "IT         101          4199\n",
            "           102          4776\n",
            "           103          4834\n",
            "HR         101          4745\n",
            "           102          4862\n",
            "           103          1700\n",
            "FINANCE    101          2527\n",
            "           102          1785\n",
            "           103          4879\n"
          ]
        }
      ]
    },
    {
      "cell_type": "markdown",
      "source": [
        "11. (a) Create a DataFrame with the following data and display it. (2 Marks)\n",
        "Name\tAge\tScore\n",
        "David\t21\t78\n",
        "Emma\t25\t92\n",
        "Frank\t22\t85\n",
        "________________________________________\n",
        "(b) Select and display the \"Score\" column and retrieve the row where the Name is \"Emma\". (2 Marks)\n",
        "________________________________________\n",
        "(c) From the DataFrame, filter students who scored more than 80 and sort them by Age in descending order. (2 Marks)\n",
        "________________________________________\n",
        "(d) Assign performance levels based on the scores using the following criteria: (4 Marks)\n",
        "•\tScore ≥ 90 → \"Excellent\"\n",
        "•\tScore ≥ 80 and < 90 → \"Good\"\n",
        "•\tScore < 80 → \"Needs Improvement\"\n"
      ],
      "metadata": {
        "id": "LKr8q3XxiXvP"
      }
    },
    {
      "cell_type": "code",
      "source": [
        "import pandas as pd\n",
        "data = {'Name':['David','Emma','Frank'],'Age':[21,25,22],'Score':[78,92,85]}\n",
        "df = pd.DataFrame(data)\n",
        "print(df)\n",
        "c = df[df['Score']>80].sort_values(by='Age',ascending=False)\n",
        "print(c)\n",
        "print(df['Score'])\n",
        "print(df[df['Name']=='Emma'])\n",
        "def b(Score):\n",
        "  if Score>=90:\n",
        "    return 'Excellent'\n",
        "  elif 80>= Score >90:\n",
        "    return 'Good'\n",
        "  else:\n",
        "    return 'Needs Improvement'\n",
        "\n",
        "df['Performance']=df['Score'].apply(b)\n",
        "print(df)"
      ],
      "metadata": {
        "colab": {
          "base_uri": "https://localhost:8080/"
        },
        "id": "0LECto5biZMx",
        "outputId": "c48efeb9-3efe-4c01-e628-f10061d6fc5a"
      },
      "execution_count": 34,
      "outputs": [
        {
          "output_type": "stream",
          "name": "stdout",
          "text": [
            "    Name  Age  Score\n",
            "0  David   21     78\n",
            "1   Emma   25     92\n",
            "2  Frank   22     85\n",
            "    Name  Age  Score\n",
            "1   Emma   25     92\n",
            "2  Frank   22     85\n",
            "0    78\n",
            "1    92\n",
            "2    85\n",
            "Name: Score, dtype: int64\n",
            "   Name  Age  Score\n",
            "1  Emma   25     92\n",
            "    Name  Age  Score        Performance\n",
            "0  David   21     78  Needs Improvement\n",
            "1   Emma   25     92          Excellent\n",
            "2  Frank   22     85  Needs Improvement\n"
          ]
        }
      ]
    },
    {
      "cell_type": "markdown",
      "source": [
        "7.Create a Pandas Series with custom index labels ['A', 'B', 'C', 'D', 'E'] and values [10, 20, 30,  40, 50]. Retrieve the element at index \"C\"."
      ],
      "metadata": {
        "id": "27H5k6C2rh-a"
      }
    },
    {
      "cell_type": "code",
      "source": [
        "import pandas as pd\n",
        "a = pd.Series([10,20,30,40,50],index = ['f','b','c','d','e'])\n",
        "print(a['c'])\n"
      ],
      "metadata": {
        "colab": {
          "base_uri": "https://localhost:8080/"
        },
        "id": "I10x911Bri-F",
        "outputId": "245f4274-145c-44a2-ac20-b2f89cf0ccd3"
      },
      "execution_count": 42,
      "outputs": [
        {
          "output_type": "stream",
          "name": "stdout",
          "text": [
            "30\n"
          ]
        }
      ]
    },
    {
      "cell_type": "markdown",
      "source": [
        "6. Describe about array slicing and do the following: (1 mark)\n",
        "      a)Given the array arr = np.array([10, 20, 30, 40, 50, 60, 70, 80]), extract elements from index  \n",
        "         2 to 5\n",
        "      b) Negative Slicing: extract elements from index -2 to -5       \n"
      ],
      "metadata": {
        "id": "lbysPu_NstfT"
      }
    },
    {
      "cell_type": "code",
      "source": [
        "import numpy as np\n",
        "arr = np.array([10,20,30,40,50,60,70,80])\n",
        "print(arr[2:6])\n",
        "print(arr[-2:-6:-1])"
      ],
      "metadata": {
        "colab": {
          "base_uri": "https://localhost:8080/"
        },
        "id": "fzRtETNasulF",
        "outputId": "e46b538a-c7ab-4cd6-b08d-fea3c97bd224"
      },
      "execution_count": 48,
      "outputs": [
        {
          "output_type": "stream",
          "name": "stdout",
          "text": [
            "[30 40 50 60]\n",
            "[70 60 50 40]\n"
          ]
        }
      ]
    },
    {
      "cell_type": "markdown",
      "source": [
        "5.Write a program to sort a NumPy array along both rows and columns."
      ],
      "metadata": {
        "id": "jlDB1yVMt1EV"
      }
    },
    {
      "cell_type": "code",
      "source": [
        "import numpy as np\n",
        "data = np.array([[2,6,4],[60,20,80],[13,56,41]])\n",
        "print(data,'\\n')\n",
        "c = np.sort(data,axis=0)\n",
        "print(c,'\\n')\n",
        "d = np.sort(data)\n",
        "print(d)"
      ],
      "metadata": {
        "colab": {
          "base_uri": "https://localhost:8080/"
        },
        "id": "TzCfcnxet17Q",
        "outputId": "131f6a61-651a-4bee-a3d0-7a5b922d5379"
      },
      "execution_count": 53,
      "outputs": [
        {
          "output_type": "stream",
          "name": "stdout",
          "text": [
            "[[ 2  6  4]\n",
            " [60 20 80]\n",
            " [13 56 41]] \n",
            "\n",
            "[[ 2  6  4]\n",
            " [13 20 41]\n",
            " [60 56 80]] \n",
            "\n",
            "[[ 2  4  6]\n",
            " [20 60 80]\n",
            " [13 41 56]]\n"
          ]
        }
      ]
    },
    {
      "cell_type": "markdown",
      "source": [
        "1. Write a Python program to create a NumPy array of shape (3,4) filled with random integers between 1 and 100."
      ],
      "metadata": {
        "id": "0rO7Vm62vlN1"
      }
    },
    {
      "cell_type": "code",
      "source": [
        "import numpy as np\n",
        "data = np.random.randint(1,101,size=(3,4))\n",
        "print(data)"
      ],
      "metadata": {
        "colab": {
          "base_uri": "https://localhost:8080/"
        },
        "id": "DLXHZ0V8vxkO",
        "outputId": "264a4808-60eb-4349-e90f-695a876386f8"
      },
      "execution_count": 54,
      "outputs": [
        {
          "output_type": "stream",
          "name": "stdout",
          "text": [
            "[[35 70 21 54]\n",
            " [87 17 81 93]\n",
            " [74 69 80 56]]\n"
          ]
        }
      ]
    },
    {
      "cell_type": "markdown",
      "source": [
        "2.Implement a Python program that performs the following NumPy operations:\n",
        "•\tJoins two arrays                                       \n",
        "•\tSplits an array into three parts and Sorts an array in ascending order   \n"
      ],
      "metadata": {
        "id": "FMPlyHqKwEPj"
      }
    },
    {
      "cell_type": "code",
      "source": [
        "import numpy as np\n",
        "w= np.array([10,20,30])\n",
        "q = np.array([40,50,60,70,80,90])\n",
        "x = np.concatenate((w,q))\n",
        "print(x)\n",
        "d = np.split(q,2)\n",
        "s = np.sort(d)\n",
        "print(d)\n",
        "print(s)"
      ],
      "metadata": {
        "colab": {
          "base_uri": "https://localhost:8080/"
        },
        "id": "jrtnfQz3wFKY",
        "outputId": "523042e8-3247-49fd-cebb-98d7c4c36a64"
      },
      "execution_count": 60,
      "outputs": [
        {
          "output_type": "stream",
          "name": "stdout",
          "text": [
            "[10 20 30 40 50 60 70 80 90]\n",
            "[array([40, 50, 60]), array([70, 80, 90])]\n",
            "[[40 50 60]\n",
            " [70 80 90]]\n"
          ]
        }
      ]
    },
    {
      "cell_type": "markdown",
      "source": [
        "3.Given two NumPy arrays, A = np.array([1, 2, 3]) and B = np.array([4, 5, 6]), perform the following operations:\n",
        "•\tElement-wise addition\n",
        "•\tElement-wise multiplication\n",
        "•\tDot product                           \n"
      ],
      "metadata": {
        "id": "bggWDy1ZxXNa"
      }
    },
    {
      "cell_type": "code",
      "source": [
        "import numpy as np\n",
        "A = np.array([1,2,3])\n",
        "B = np.array([4,5,6])\n",
        "print(A+B)\n",
        "print(A*B)\n",
        "print(np.dot(A,B))"
      ],
      "metadata": {
        "colab": {
          "base_uri": "https://localhost:8080/"
        },
        "id": "KkM3Ydw7xYMt",
        "outputId": "5cc90b55-ea83-411a-af58-d1bc8f133585"
      },
      "execution_count": 63,
      "outputs": [
        {
          "output_type": "stream",
          "name": "stdout",
          "text": [
            "[5 7 9]\n",
            "[ 4 10 18]\n",
            "32\n"
          ]
        }
      ]
    },
    {
      "cell_type": "markdown",
      "source": [
        "4. Write a Pandas program that:\n",
        "•\tReads a dataset and Selects specific columns                                      \n",
        "•\tFilters rows based on a condition            \n",
        "•\tSorts the DataFrame based on a column  \n"
      ],
      "metadata": {
        "id": "LwfW2BQOyFs9"
      }
    },
    {
      "cell_type": "code",
      "source": [
        "import pandas as pd\n",
        "df = pd.read_csv('arr.csv')\n",
        "print(df[['Name','Age','Salary']])\n",
        "c = df[df['Age']>30]\n",
        "print(c)\n",
        "d = df.sort(by='Age',ascending = False)\n",
        "print(d)"
      ],
      "metadata": {
        "id": "Ccp76WhuyGi4"
      },
      "execution_count": 64,
      "outputs": []
    },
    {
      "cell_type": "markdown",
      "source": [
        "14. Explain about Stacking and Unstacking in DataFrames.                                   "
      ],
      "metadata": {
        "id": "kUrk_3r62rCo"
      }
    },
    {
      "cell_type": "code",
      "source": [
        "import pandas as pd\n",
        "data = {'A':[1,2],'B':[3,4]}\n",
        "df = pd.DataFrame(data,index=['x','y'])\n",
        "d = df.stack()\n",
        "f = df.unstack()\n",
        "print(d)\n",
        "print(f)"
      ],
      "metadata": {
        "colab": {
          "base_uri": "https://localhost:8080/"
        },
        "id": "9aAfp_3E2uEu",
        "outputId": "aec3dbcf-0f20-43cf-923a-e7c5a2b55112"
      },
      "execution_count": 73,
      "outputs": [
        {
          "output_type": "stream",
          "name": "stdout",
          "text": [
            "x  A    1\n",
            "   B    3\n",
            "y  A    2\n",
            "   B    4\n",
            "dtype: int64\n",
            "A  x    1\n",
            "   y    2\n",
            "B  x    3\n",
            "   y    4\n",
            "dtype: int64\n"
          ]
        }
      ]
    },
    {
      "cell_type": "markdown",
      "source": [
        "9. Discuss in detail about stacking and its types. Justify how it is differentiated with an example   "
      ],
      "metadata": {
        "id": "YYJsZmqy4ulu"
      }
    },
    {
      "cell_type": "code",
      "source": [
        "import numpy as np\n",
        "a = np.array([1,2,3,4])\n",
        "b = np.array([5,6,7,8])\n",
        "\n",
        "print(np.vstack((a,b)))\n",
        "print(np.hstack((a,b)))\n",
        "print(np.dstack((a,b)))"
      ],
      "metadata": {
        "colab": {
          "base_uri": "https://localhost:8080/"
        },
        "id": "naYrsGuN4yVh",
        "outputId": "318301ea-ce59-414c-b07c-99e026c2297b"
      },
      "execution_count": 78,
      "outputs": [
        {
          "output_type": "stream",
          "name": "stdout",
          "text": [
            "[[1 2 3 4]\n",
            " [5 6 7 8]]\n",
            "[1 2 3 4 5 6 7 8]\n",
            "[[[1 5]\n",
            "  [2 6]\n",
            "  [3 7]\n",
            "  [4 8]]]\n"
          ]
        }
      ]
    },
    {
      "cell_type": "markdown",
      "source": [
        "8. Illustrate on  column operations in pandas data frame with an example     "
      ],
      "metadata": {
        "id": "xkH2s1om5bqx"
      }
    },
    {
      "cell_type": "code",
      "source": [
        "import pandas as pd\n",
        "data = {'Name':['Joy','Roy','Tom','Ron'],'Age':[12,14,18,15]}\n",
        "df = pd.DataFrame(data)\n",
        "print(df)\n",
        "df['Salary']=[1000,6000,5000,8000]\n",
        "print(df)\n",
        "print(df[df['Age']>15])\n",
        "a = df.sort_values(by='Age',ascending=False)\n",
        "print(a)"
      ],
      "metadata": {
        "colab": {
          "base_uri": "https://localhost:8080/"
        },
        "id": "UxWY2gEb5cnF",
        "outputId": "58976a88-5b43-4f20-9313-bc6d747c5e9b"
      },
      "execution_count": 89,
      "outputs": [
        {
          "output_type": "stream",
          "name": "stdout",
          "text": [
            "  Name  Age\n",
            "0  Joy   12\n",
            "1  Roy   14\n",
            "2  Tom   18\n",
            "3  Ron   15\n",
            "  Name  Age  Salary\n",
            "0  Joy   12    1000\n",
            "1  Roy   14    6000\n",
            "2  Tom   18    5000\n",
            "3  Ron   15    8000\n",
            "  Name  Age  Salary\n",
            "2  Tom   18    5000\n",
            "  Name  Age  Salary\n",
            "2  Tom   18    5000\n",
            "3  Ron   15    8000\n",
            "1  Roy   14    6000\n",
            "0  Joy   12    1000\n"
          ]
        }
      ]
    }
  ]
}