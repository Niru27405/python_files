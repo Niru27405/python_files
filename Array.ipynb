{
  "nbformat": 4,
  "nbformat_minor": 0,
  "metadata": {
    "colab": {
      "provenance": [],
      "authorship_tag": "ABX9TyOEXkKrojNwbVJS6+7GS7f/",
      "include_colab_link": true
    },
    "kernelspec": {
      "name": "python3",
      "display_name": "Python 3"
    },
    "language_info": {
      "name": "python"
    }
  },
  "cells": [
    {
      "cell_type": "markdown",
      "metadata": {
        "id": "view-in-github",
        "colab_type": "text"
      },
      "source": [
        "<a href=\"https://colab.research.google.com/github/Niru27405/python_files/blob/main/Array.ipynb\" target=\"_parent\"><img src=\"https://colab.research.google.com/assets/colab-badge.svg\" alt=\"Open In Colab\"/></a>"
      ]
    },
    {
      "cell_type": "markdown",
      "source": [
        "Creating an array\n"
      ],
      "metadata": {
        "id": "hXYT6lllahoX"
      }
    },
    {
      "cell_type": "code",
      "execution_count": null,
      "metadata": {
        "colab": {
          "base_uri": "https://localhost:8080/"
        },
        "id": "v15u7hyUUdJr",
        "outputId": "afcec819-03d3-4e32-a1e4-8c94d3b37dbc"
      },
      "outputs": [
        {
          "output_type": "stream",
          "name": "stdout",
          "text": [
            "[1 2 3 4]\n"
          ]
        }
      ],
      "source": [
        "import numpy as np\n",
        "a=np.array([1,2,3,4])\n",
        "print(a)\n"
      ]
    },
    {
      "cell_type": "code",
      "source": [
        "a=np.array(([1,2,3,4],[5,6,7,8]))\n",
        "print(a)"
      ],
      "metadata": {
        "colab": {
          "base_uri": "https://localhost:8080/"
        },
        "id": "3p8xFVgrUy_a",
        "outputId": "a6351c03-1f13-4677-f526-63e2a70f9cec"
      },
      "execution_count": null,
      "outputs": [
        {
          "output_type": "stream",
          "name": "stdout",
          "text": [
            "[[1 2 3 4]\n",
            " [5 6 7 8]]\n"
          ]
        }
      ]
    },
    {
      "cell_type": "code",
      "source": [
        "a=np.array(([1,2,3,4],[5,6,7,8],[2,4,6,8]))\n",
        "print(a)"
      ],
      "metadata": {
        "colab": {
          "base_uri": "https://localhost:8080/"
        },
        "id": "rGADZVZxVLPT",
        "outputId": "231783ad-978c-46c5-b044-55a17d940793"
      },
      "execution_count": null,
      "outputs": [
        {
          "output_type": "stream",
          "name": "stdout",
          "text": [
            "[[1 2 3 4]\n",
            " [5 6 7 8]\n",
            " [2 4 6 8]]\n"
          ]
        }
      ]
    },
    {
      "cell_type": "code",
      "source": [
        "arr=np.zeros((2,3))\n",
        "print(arr)"
      ],
      "metadata": {
        "colab": {
          "base_uri": "https://localhost:8080/"
        },
        "id": "5ccKHeeXVek6",
        "outputId": "e455d5e1-e876-4144-e356-820f8404d578"
      },
      "execution_count": null,
      "outputs": [
        {
          "output_type": "stream",
          "name": "stdout",
          "text": [
            "[[0. 0. 0.]\n",
            " [0. 0. 0.]]\n"
          ]
        }
      ]
    },
    {
      "cell_type": "code",
      "source": [
        "arr=np.ones((3,3))\n",
        "print(arr)"
      ],
      "metadata": {
        "colab": {
          "base_uri": "https://localhost:8080/"
        },
        "id": "4drTQjyFV-5a",
        "outputId": "ae0099cc-5d49-45ed-b05b-d2e815b609ab"
      },
      "execution_count": null,
      "outputs": [
        {
          "output_type": "stream",
          "name": "stdout",
          "text": [
            "[[1. 1. 1.]\n",
            " [1. 1. 1.]\n",
            " [1. 1. 1.]]\n"
          ]
        }
      ]
    },
    {
      "cell_type": "code",
      "source": [
        "arr=np.arange(0,10,2)\n",
        "print(arr)"
      ],
      "metadata": {
        "colab": {
          "base_uri": "https://localhost:8080/"
        },
        "id": "dUv1S11HWY15",
        "outputId": "7d9d7360-229b-4e06-a3d5-0adb120d7874"
      },
      "execution_count": null,
      "outputs": [
        {
          "output_type": "stream",
          "name": "stdout",
          "text": [
            "[0 2 4 6 8]\n"
          ]
        }
      ]
    },
    {
      "cell_type": "markdown",
      "source": [
        "Attributes of array:\n",
        "\n"
      ],
      "metadata": {
        "id": "itnn8a23W5ky"
      }
    },
    {
      "cell_type": "code",
      "source": [
        "#shape of array\n",
        "array=np.array(([2,3,4],[4,5,6]))\n",
        "print(array)\n",
        "print(array.shape)"
      ],
      "metadata": {
        "colab": {
          "base_uri": "https://localhost:8080/"
        },
        "id": "OKIDOPjLXQA5",
        "outputId": "9786d60e-b011-4e10-9848-ae080c738f13"
      },
      "execution_count": null,
      "outputs": [
        {
          "output_type": "stream",
          "name": "stdout",
          "text": [
            "[[2 3 4]\n",
            " [4 5 6]\n",
            " [7 8 9]]\n",
            "(3, 3)\n"
          ]
        }
      ]
    },
    {
      "cell_type": "code",
      "source": [
        "#number of dimensions\n",
        "array=np.array(([2,3,4],[4,5,6],[7,8,9]))\n",
        "print(array)\n",
        "print(array.ndim)"
      ],
      "metadata": {
        "colab": {
          "base_uri": "https://localhost:8080/"
        },
        "id": "zM4m16vYYYIS",
        "outputId": "983e026d-4cb0-4611-942c-b7aa7cc61d07"
      },
      "execution_count": null,
      "outputs": [
        {
          "output_type": "stream",
          "name": "stdout",
          "text": [
            "[[2 3 4]\n",
            " [4 5 6]\n",
            " [7 8 9]]\n",
            "2\n"
          ]
        }
      ]
    },
    {
      "cell_type": "code",
      "source": [
        "#array datatype\n",
        "array=np.array(([2,3,4],[4,5,6],[7,8,9]))\n",
        "print(array)\n",
        "print(array.dtype)"
      ],
      "metadata": {
        "colab": {
          "base_uri": "https://localhost:8080/"
        },
        "id": "qpnxetO8Zc9J",
        "outputId": "e479fb83-b1bc-4bfc-9c5b-e9b3637ba42d"
      },
      "execution_count": null,
      "outputs": [
        {
          "output_type": "stream",
          "name": "stdout",
          "text": [
            "[[2 3 4]\n",
            " [4 5 6]\n",
            " [7 8 9]]\n",
            "int64\n"
          ]
        }
      ]
    },
    {
      "cell_type": "code",
      "source": [
        "#array size\n",
        "array=np.array(([2,3,4],[4,5,6],[7,8,9]))\n",
        "print(array)\n",
        "print(array.size)"
      ],
      "metadata": {
        "colab": {
          "base_uri": "https://localhost:8080/"
        },
        "id": "Acya-HmYYqW4",
        "outputId": "4fbac200-1ce0-4bc0-de55-5c1fc01cc341"
      },
      "execution_count": null,
      "outputs": [
        {
          "output_type": "stream",
          "name": "stdout",
          "text": [
            "[[2 3 4]\n",
            " [4 5 6]\n",
            " [7 8 9]]\n",
            "9\n"
          ]
        }
      ]
    },
    {
      "cell_type": "markdown",
      "source": [
        "Array Operations"
      ],
      "metadata": {
        "id": "Q5FtXDtmZsI-"
      }
    },
    {
      "cell_type": "code",
      "source": [
        "#array join\n",
        "a=np.array(([2,3,4]))\n",
        "b=np.array(([5,6,7]))\n",
        "c=np.concatenate((a,b))\n",
        "print(c)\n",
        "d=np.array(([2,3,4],[4,5,6]))\n",
        "e=np.array(([5,6,7],[4,5,6]))\n",
        "f=np.concatenate((a,b))\n",
        "print(c)"
      ],
      "metadata": {
        "colab": {
          "base_uri": "https://localhost:8080/"
        },
        "id": "WdCVKxh9ZxqQ",
        "outputId": "d59fd9b3-5a2c-45a8-ec3f-8e26e0b7e7b0"
      },
      "execution_count": null,
      "outputs": [
        {
          "output_type": "stream",
          "name": "stdout",
          "text": [
            "[2 3 4 5 6 7]\n",
            "[2 3 4 5 6 7]\n"
          ]
        }
      ]
    },
    {
      "cell_type": "code",
      "source": [],
      "metadata": {
        "id": "j6YRGYDGbkGZ"
      },
      "execution_count": null,
      "outputs": []
    }
  ]
}