{
  "nbformat": 4,
  "nbformat_minor": 0,
  "metadata": {
    "colab": {
      "provenance": [],
      "authorship_tag": "ABX9TyMMz98fXzVsq9wg20UpIvwY",
      "include_colab_link": true
    },
    "kernelspec": {
      "name": "python3",
      "display_name": "Python 3"
    },
    "language_info": {
      "name": "python"
    }
  },
  "cells": [
    {
      "cell_type": "markdown",
      "metadata": {
        "id": "view-in-github",
        "colab_type": "text"
      },
      "source": [
        "<a href=\"https://colab.research.google.com/github/Niru27405/python_files/blob/main/Pandas.ipynb\" target=\"_parent\"><img src=\"https://colab.research.google.com/assets/colab-badge.svg\" alt=\"Open In Colab\"/></a>"
      ]
    },
    {
      "cell_type": "markdown",
      "source": [
        "Pandas - Series\n",
        "Series is a data structure\n",
        "only 1D data can be created"
      ],
      "metadata": {
        "id": "a28cpq86ZCLv"
      }
    },
    {
      "cell_type": "markdown",
      "source": [
        "Initialize a series from list"
      ],
      "metadata": {
        "id": "jP4u8xosZB1O"
      }
    },
    {
      "cell_type": "code",
      "execution_count": 5,
      "metadata": {
        "colab": {
          "base_uri": "https://localhost:8080/"
        },
        "id": "zm8BVBPEYMJ9",
        "outputId": "154df0a6-61ed-4266-c6d9-a3864e4202e8"
      },
      "outputs": [
        {
          "output_type": "stream",
          "name": "stdout",
          "text": [
            "0    1\n",
            "1    2\n",
            "2    3\n",
            "3    4\n",
            "4    5\n",
            "dtype: int64\n"
          ]
        }
      ],
      "source": [
        "import pandas as pd\n",
        "data = [1,2,3,4,5]\n",
        "S = pd.Series(data)\n",
        "print(S)"
      ]
    },
    {
      "cell_type": "markdown",
      "source": [
        "Initialize a Series from a dictionary"
      ],
      "metadata": {
        "id": "kUCo-st0aTaC"
      }
    },
    {
      "cell_type": "code",
      "source": [
        "import pandas as pd\n",
        "data = {'a':1,'b':2,'c':3}\n",
        "a = pd.Series(data)\n",
        "print(a)"
      ],
      "metadata": {
        "colab": {
          "base_uri": "https://localhost:8080/"
        },
        "id": "gOikvYcdZ04m",
        "outputId": "8dba3cdc-8614-414a-d903-afc241b34ec9"
      },
      "execution_count": 6,
      "outputs": [
        {
          "output_type": "stream",
          "name": "stdout",
          "text": [
            "a    1\n",
            "b    2\n",
            "c    3\n",
            "dtype: int64\n"
          ]
        }
      ]
    },
    {
      "cell_type": "markdown",
      "source": [
        "Initialize a Series with custom index"
      ],
      "metadata": {
        "id": "o84ZHdCca4Jx"
      }
    },
    {
      "cell_type": "code",
      "source": [
        "import pandas as pd\n",
        "data = [1,2,3,4,5]\n",
        "index = ['a','b','c','d','e']\n",
        "a = pd.Series(data,index = index)\n",
        "print(a)"
      ],
      "metadata": {
        "colab": {
          "base_uri": "https://localhost:8080/"
        },
        "id": "5nweXt4LalYW",
        "outputId": "416a959e-3d43-4170-959c-aac9439ff239"
      },
      "execution_count": 8,
      "outputs": [
        {
          "output_type": "stream",
          "name": "stdout",
          "text": [
            "a    1\n",
            "b    2\n",
            "c    3\n",
            "d    4\n",
            "e    5\n",
            "dtype: int64\n"
          ]
        }
      ]
    },
    {
      "cell_type": "code",
      "source": [
        "import pandas as pd\n",
        "data = [23,35,46,57,12,18,29]\n",
        "index = ['Ram','Isha','Elsa','Tom','Riya','Bunny','Sherya']\n",
        "a = pd.Series(data,index = index)\n",
        "print(a)\n"
      ],
      "metadata": {
        "colab": {
          "base_uri": "https://localhost:8080/"
        },
        "id": "fSHK1ki6bSsU",
        "outputId": "785afccd-3a6c-4879-e6f1-038833257423"
      },
      "execution_count": 12,
      "outputs": [
        {
          "output_type": "stream",
          "name": "stdout",
          "text": [
            "Ram       23\n",
            "Isha      35\n",
            "Elsa      46\n",
            "Tom       57\n",
            "Riya      12\n",
            "Bunny     18\n",
            "Sherya    29\n",
            "dtype: int64\n"
          ]
        }
      ]
    },
    {
      "cell_type": "markdown",
      "source": [
        "Series Addition - Arithmetic Operations"
      ],
      "metadata": {
        "id": "8Y_cwvHAdupG"
      }
    },
    {
      "cell_type": "code",
      "source": [
        "import pandas as pd\n",
        "a = pd.Series([1,2,3])\n",
        "b = pd.Series([4,5,6])\n",
        "sum = a+b\n",
        "print(sum)"
      ],
      "metadata": {
        "colab": {
          "base_uri": "https://localhost:8080/"
        },
        "id": "sA2D5IDCdZ2H",
        "outputId": "5a338d80-6aac-44f3-ab99-88a31b496e90"
      },
      "execution_count": 13,
      "outputs": [
        {
          "output_type": "stream",
          "name": "stdout",
          "text": [
            "0    5\n",
            "1    7\n",
            "2    9\n",
            "dtype: int64\n"
          ]
        }
      ]
    },
    {
      "cell_type": "markdown",
      "source": [
        "Combining and printing if the index is available in both a and b"
      ],
      "metadata": {
        "id": "cvwfX3fAf2TQ"
      }
    },
    {
      "cell_type": "code",
      "source": [
        "import pandas as pd\n",
        "a = pd.Series([1,2,3],index= ['a','b','c'])\n",
        "b = pd.Series([4,5,6],index= ['b','c','d'])\n",
        "sum = a+b\n",
        "print(sum)"
      ],
      "metadata": {
        "colab": {
          "base_uri": "https://localhost:8080/"
        },
        "id": "mzk5pKkEfDCD",
        "outputId": "ab51974b-7bff-4e14-c5b3-f5458adaf6eb"
      },
      "execution_count": 15,
      "outputs": [
        {
          "output_type": "stream",
          "name": "stdout",
          "text": [
            "a    NaN\n",
            "b    6.0\n",
            "c    8.0\n",
            "d    NaN\n",
            "dtype: float64\n"
          ]
        }
      ]
    }
  ]
}