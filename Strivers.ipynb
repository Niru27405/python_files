{
  "nbformat": 4,
  "nbformat_minor": 0,
  "metadata": {
    "colab": {
      "provenance": [],
      "authorship_tag": "ABX9TyPb4i2ncSX1y65FFdHDKvu/",
      "include_colab_link": true
    },
    "kernelspec": {
      "name": "python3",
      "display_name": "Python 3"
    },
    "language_info": {
      "name": "python"
    }
  },
  "cells": [
    {
      "cell_type": "markdown",
      "metadata": {
        "id": "view-in-github",
        "colab_type": "text"
      },
      "source": [
        "<a href=\"https://colab.research.google.com/github/Niru27405/python_files/blob/main/Strivers.ipynb\" target=\"_parent\"><img src=\"https://colab.research.google.com/assets/colab-badge.svg\" alt=\"Open In Colab\"/></a>"
      ]
    },
    {
      "cell_type": "markdown",
      "source": [
        "CountDigits"
      ],
      "metadata": {
        "id": "helrn2aT1iqD"
      }
    },
    {
      "cell_type": "code",
      "execution_count": null,
      "metadata": {
        "colab": {
          "base_uri": "https://localhost:8080/"
        },
        "id": "83yZN2xV1g7l",
        "outputId": "0ccddfec-abe6-4d03-b767-f9406626ca42"
      },
      "outputs": [
        {
          "output_type": "stream",
          "name": "stdout",
          "text": [
            "234\n",
            "3\n"
          ]
        }
      ],
      "source": [
        "def countN(n):\n",
        "    cnt = 0\n",
        "    while n>0:\n",
        "        cnt += 1\n",
        "        n = n//10\n",
        "    return cnt\n",
        "N = int(input())\n",
        "d = countN(N)\n",
        "print(d)"
      ]
    },
    {
      "cell_type": "markdown",
      "source": [
        "Reverse the number\n",
        "\n",
        "\n",
        "logic : revNum = (revNum * 10) + last digit"
      ],
      "metadata": {
        "id": "eQQRAps1NFoZ"
      }
    },
    {
      "cell_type": "code",
      "source": [
        "def Reverse(n):\n",
        "  revNum = 0\n",
        "  while(n>0):\n",
        "    lastDigit = n % 10\n",
        "    n = n//10\n",
        "    revNum = (revNum * 10)+lastDigit\n",
        "  return revNum\n",
        "\n",
        "N = int(input())\n",
        "d = Reverse(N)\n",
        "print(d)"
      ],
      "metadata": {
        "colab": {
          "base_uri": "https://localhost:8080/"
        },
        "id": "smhtGabsNXx5",
        "outputId": "8473f035-d20c-4b30-bddd-e9de66b351fb"
      },
      "execution_count": null,
      "outputs": [
        {
          "output_type": "stream",
          "name": "stdout",
          "text": [
            "486\n",
            "684\n"
          ]
        }
      ]
    },
    {
      "cell_type": "markdown",
      "source": [
        "Palindrome\n",
        "\n",
        "find reverse of number and compare with orginal number"
      ],
      "metadata": {
        "id": "5o7Qecs_Qbga"
      }
    },
    {
      "cell_type": "code",
      "source": [
        "def isPalindrome(n):\n",
        "  dup = n\n",
        "  revNum = 0\n",
        "  while(n>0):\n",
        "    lastDigit = n % 10\n",
        "    n = n//10\n",
        "    revNum = (revNum * 10)+lastDigit\n",
        "  return dup == revNum\n",
        "\n",
        "\n",
        "N = int(input())\n",
        "\n",
        "if isPalindrome(N):\n",
        "  print(\"true\")\n",
        "else:\n",
        "  print(\"false\")\n"
      ],
      "metadata": {
        "colab": {
          "base_uri": "https://localhost:8080/"
        },
        "id": "jtBR7iDXQmv-",
        "outputId": "668d0b59-2a6b-4e6b-9df3-0a33e8eb7df1"
      },
      "execution_count": null,
      "outputs": [
        {
          "output_type": "stream",
          "name": "stdout",
          "text": [
            "454\n",
            "true\n"
          ]
        }
      ]
    },
    {
      "cell_type": "markdown",
      "source": [
        "Amstrong Numbers : n = 371 = 3^3 + 7^3 + 1^3 == 371\n",
        "\n",
        "logic: sum = sum+(ld+ld+ld)"
      ],
      "metadata": {
        "id": "RHaiSdI9T_0W"
      }
    },
    {
      "cell_type": "code",
      "source": [
        "def an(n):\n",
        "  dup = n\n",
        "  sum = 0\n",
        "  a = len(str(n))\n",
        "  while(n>0):\n",
        "    ld = n%10\n",
        "    sum += ld**a\n",
        "    n = n//10\n",
        "  return sum == dup\n",
        "\n",
        "N = int(input())\n",
        "d = an(N)\n",
        "if an(N):\n",
        "  print(\"true\")\n",
        "else:\n",
        "  print(\"false\")"
      ],
      "metadata": {
        "colab": {
          "base_uri": "https://localhost:8080/"
        },
        "id": "I2Eza5PxUUtQ",
        "outputId": "1d905958-773a-44bf-f57b-407dcd77e111"
      },
      "execution_count": 7,
      "outputs": [
        {
          "output_type": "stream",
          "name": "stdout",
          "text": [
            "371\n",
            "true\n"
          ]
        }
      ]
    },
    {
      "cell_type": "markdown",
      "source": [
        "print all divisors\n",
        "\n",
        "logic : start loop from 1 to N and\n",
        "if N%i==0 , print(i)\n",
        "\n",
        "optimal sol: loop from 1 to sqrt(N)"
      ],
      "metadata": {
        "id": "Jgc7wI43XG5s"
      }
    },
    {
      "cell_type": "code",
      "source": [
        "\n",
        "import math\n",
        "N = int(input())\n",
        "factors = []\n",
        "for i in range(1,int(math.sqrt(N)+1)):\n",
        "  if N%i==0:\n",
        "\n",
        "    factors.append(i)\n",
        "    if(N//i != i):\n",
        "\n",
        "      factors.append(N//i)\n",
        "factors.sort()\n",
        "print(factors)\n"
      ],
      "metadata": {
        "colab": {
          "base_uri": "https://localhost:8080/"
        },
        "id": "RhgC8zsHXceV",
        "outputId": "4668c299-12c4-43eb-adf4-e0c054530fbe"
      },
      "execution_count": null,
      "outputs": [
        {
          "output_type": "stream",
          "name": "stdout",
          "text": [
            "36\n",
            "[1, 2, 3, 4, 6, 9, 12, 18, 36]\n"
          ]
        }
      ]
    },
    {
      "cell_type": "markdown",
      "source": [
        "Prime Numbers : exactly two factors i.e., 1 and itself"
      ],
      "metadata": {
        "id": "MH1KJz1mgyyg"
      }
    },
    {
      "cell_type": "code",
      "source": [
        "import math\n",
        "n = int(input())\n",
        "cnt = 0\n",
        "for i in range(1,int (math.sqrt(n)+1)):\n",
        "  if (n%i==0):\n",
        "    cnt += 1\n",
        "    if(n//i != i):\n",
        "      cnt += 1\n",
        "if cnt == 2:\n",
        "  print(\"Prime\")\n",
        "else:\n",
        "  print(\"Not Prime\")"
      ],
      "metadata": {
        "colab": {
          "base_uri": "https://localhost:8080/"
        },
        "id": "UCgSLAeGg9x_",
        "outputId": "8f578a92-5797-4a24-d830-d70ab3d6de30"
      },
      "execution_count": null,
      "outputs": [
        {
          "output_type": "stream",
          "name": "stdout",
          "text": [
            "7\n",
            "Prime\n"
          ]
        }
      ]
    }
  ]
}