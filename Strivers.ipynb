{
  "nbformat": 4,
  "nbformat_minor": 0,
  "metadata": {
    "colab": {
      "provenance": [],
      "authorship_tag": "ABX9TyORsmdLdsfHjBnr6X8YVE2v",
      "include_colab_link": true
    },
    "kernelspec": {
      "name": "python3",
      "display_name": "Python 3"
    },
    "language_info": {
      "name": "python"
    }
  },
  "cells": [
    {
      "cell_type": "markdown",
      "metadata": {
        "id": "view-in-github",
        "colab_type": "text"
      },
      "source": [
        "<a href=\"https://colab.research.google.com/github/Niru27405/python_files/blob/main/Strivers.ipynb\" target=\"_parent\"><img src=\"https://colab.research.google.com/assets/colab-badge.svg\" alt=\"Open In Colab\"/></a>"
      ]
    },
    {
      "cell_type": "markdown",
      "source": [
        "CountDigits"
      ],
      "metadata": {
        "id": "helrn2aT1iqD"
      }
    },
    {
      "cell_type": "code",
      "execution_count": 1,
      "metadata": {
        "colab": {
          "base_uri": "https://localhost:8080/"
        },
        "id": "83yZN2xV1g7l",
        "outputId": "0ccddfec-abe6-4d03-b767-f9406626ca42"
      },
      "outputs": [
        {
          "output_type": "stream",
          "name": "stdout",
          "text": [
            "234\n",
            "3\n"
          ]
        }
      ],
      "source": [
        "def countN(n):\n",
        "    cnt = 0\n",
        "    while n>0:\n",
        "        cnt += 1\n",
        "        n = n//10\n",
        "    return cnt\n",
        "N = int(input())\n",
        "d = countN(N)\n",
        "print(d)"
      ]
    }
  ]
}