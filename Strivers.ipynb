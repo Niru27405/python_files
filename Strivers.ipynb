{
  "nbformat": 4,
  "nbformat_minor": 0,
  "metadata": {
    "colab": {
      "provenance": [],
      "authorship_tag": "ABX9TyMRV1pgqTPVlbrTZ89OEEna",
      "include_colab_link": true
    },
    "kernelspec": {
      "name": "python3",
      "display_name": "Python 3"
    },
    "language_info": {
      "name": "python"
    }
  },
  "cells": [
    {
      "cell_type": "markdown",
      "metadata": {
        "id": "view-in-github",
        "colab_type": "text"
      },
      "source": [
        "<a href=\"https://colab.research.google.com/github/Niru27405/python_files/blob/main/Strivers.ipynb\" target=\"_parent\"><img src=\"https://colab.research.google.com/assets/colab-badge.svg\" alt=\"Open In Colab\"/></a>"
      ]
    },
    {
      "cell_type": "markdown",
      "source": [
        "CountDigits"
      ],
      "metadata": {
        "id": "helrn2aT1iqD"
      }
    },
    {
      "cell_type": "code",
      "execution_count": null,
      "metadata": {
        "colab": {
          "base_uri": "https://localhost:8080/"
        },
        "id": "83yZN2xV1g7l",
        "outputId": "0ccddfec-abe6-4d03-b767-f9406626ca42"
      },
      "outputs": [
        {
          "output_type": "stream",
          "name": "stdout",
          "text": [
            "234\n",
            "3\n"
          ]
        }
      ],
      "source": [
        "def countN(n):\n",
        "    cnt = 0\n",
        "    while n>0:\n",
        "        cnt += 1\n",
        "        n = n//10\n",
        "    return cnt\n",
        "N = int(input())\n",
        "d = countN(N)\n",
        "print(d)"
      ]
    },
    {
      "cell_type": "markdown",
      "source": [
        "Reverse the number\n",
        "\n",
        "\n",
        "logic : revNum = (revNum * 10) + last digit"
      ],
      "metadata": {
        "id": "eQQRAps1NFoZ"
      }
    },
    {
      "cell_type": "code",
      "source": [
        "def Reverse(n):\n",
        "  revNum = 0\n",
        "  while(n>0):\n",
        "    lastDigit = n % 10\n",
        "    n = n//10\n",
        "    revNum = (revNum * 10)+lastDigit\n",
        "  return revNum\n",
        "\n",
        "N = int(input())\n",
        "d = Reverse(N)\n",
        "print(d)"
      ],
      "metadata": {
        "colab": {
          "base_uri": "https://localhost:8080/"
        },
        "id": "smhtGabsNXx5",
        "outputId": "8473f035-d20c-4b30-bddd-e9de66b351fb"
      },
      "execution_count": 3,
      "outputs": [
        {
          "output_type": "stream",
          "name": "stdout",
          "text": [
            "486\n",
            "684\n"
          ]
        }
      ]
    },
    {
      "cell_type": "markdown",
      "source": [
        "Palindrome\n",
        "\n",
        "find reverse of number and compare with orginal number"
      ],
      "metadata": {
        "id": "5o7Qecs_Qbga"
      }
    },
    {
      "cell_type": "code",
      "source": [
        "def isPalindrome(n):\n",
        "  dup = n\n",
        "  revNum = 0\n",
        "  while(n>0):\n",
        "    lastDigit = n % 10\n",
        "    n = n//10\n",
        "    revNum = (revNum * 10)+lastDigit\n",
        "  return dup == revNum\n",
        "\n",
        "\n",
        "N = int(input())\n",
        "\n",
        "if isPalindrome(N):\n",
        "  print(\"true\")\n",
        "else:\n",
        "  print(\"false\")\n"
      ],
      "metadata": {
        "colab": {
          "base_uri": "https://localhost:8080/"
        },
        "id": "jtBR7iDXQmv-",
        "outputId": "668d0b59-2a6b-4e6b-9df3-0a33e8eb7df1"
      },
      "execution_count": 8,
      "outputs": [
        {
          "output_type": "stream",
          "name": "stdout",
          "text": [
            "454\n",
            "true\n"
          ]
        }
      ]
    },
    {
      "cell_type": "markdown",
      "source": [
        "Amstrong Numbers : n = 371 = 3^3 + 7^3 + 1^3 == 371\n",
        "\n",
        "logic: sum = sum+(ld+ld+ld)"
      ],
      "metadata": {
        "id": "RHaiSdI9T_0W"
      }
    },
    {
      "cell_type": "code",
      "source": [
        "def an(n):\n",
        "  dup = n\n",
        "  sum = 0\n",
        "  while(n>0):\n",
        "    ld = n%10\n",
        "    sum = sum + (ld*ld*ld)\n",
        "    n = n//10\n",
        "  return sum == dup\n",
        "\n",
        "N = int(input())\n",
        "d = an(N)\n",
        "if an(N):\n",
        "  print(\"true\")\n",
        "else:\n",
        "  print(\"false\")"
      ],
      "metadata": {
        "colab": {
          "base_uri": "https://localhost:8080/"
        },
        "id": "I2Eza5PxUUtQ",
        "outputId": "45bbb52c-acf3-476d-ae50-ed425ff47d20"
      },
      "execution_count": 13,
      "outputs": [
        {
          "output_type": "stream",
          "name": "stdout",
          "text": [
            "35\n",
            "false\n"
          ]
        }
      ]
    }
  ]
}